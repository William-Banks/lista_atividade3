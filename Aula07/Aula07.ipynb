{
 "cells": [
  {
   "cell_type": "code",
   "execution_count": 1,
   "metadata": {},
   "outputs": [
    {
     "name": "stdout",
     "output_type": "stream",
     "text": [
      "[1, 2, 3, 4, 5, 6, 7]\n"
     ]
    }
   ],
   "source": [
    "lista = [1,2,3,4,5,6,7]\n",
    "print(lista)\n",
    "lista.remove(2)"
   ]
  },
  {
   "cell_type": "code",
   "execution_count": 2,
   "metadata": {},
   "outputs": [
    {
     "name": "stdout",
     "output_type": "stream",
     "text": [
      "João 16\n"
     ]
    }
   ],
   "source": [
    "nome = 'João'\n",
    "idade = 16\n",
    "\n",
    "print(nome,idade)\n"
   ]
  },
  {
   "cell_type": "markdown",
   "metadata": {},
   "source": [
    "#Cabeçalho 1\n",
    "## Cabeçalho 2\n",
    "\n",
    "**Texto negrito** _Negrito_\n",
    "\n",
    "Texto normal\n",
    "\n",
    "*Itálico* ou _Itálico_\n",
    "**Negrito** ou _Negrito_\n",
    "**_Negrito e Itálico_**\n",
    "\n",
    "1. Primeiro item da lista ordenada\n",
    "2. Segundo item da lista ordenada\n",
    "\n",
    "-Lista não ordenada\n",
    "    -Segundo item da lista não ordenada\n",
    "\n",
    "![Texto Alternativo](http://exemplo.com)\n",
    "![Texto Alternativo](http://exemplo.com/imagem.jpg)"
   ]
  },
  {
   "cell_type": "code",
   "execution_count": 4,
   "metadata": {},
   "outputs": [
    {
     "name": "stdout",
     "output_type": "stream",
     "text": [
      "1° Joao\n",
      "2° victor\n",
      "3° oliveira\n"
     ]
    }
   ],
   "source": [
    "nome = ['Joao', 'victor','oliveira']\n",
    "\n",
    "for i, j in enumerate(nome):\n",
    "    print(f'{i+1}° {j}')\n",
    "    "
   ]
  },
  {
   "cell_type": "code",
   "execution_count": 5,
   "metadata": {},
   "outputs": [
    {
     "name": "stdout",
     "output_type": "stream",
     "text": [
      "j\n",
      "o\n",
      "a\n",
      "o\n"
     ]
    }
   ],
   "source": [
    "nome = 'joao'\n",
    "for i in (nome):\n",
    "    print(i)\n",
    "\n"
   ]
  },
  {
   "cell_type": "code",
   "execution_count": 6,
   "metadata": {},
   "outputs": [
    {
     "name": "stdout",
     "output_type": "stream",
     "text": [
      "0\n",
      "1\n",
      "2\n",
      "3\n",
      "4\n",
      "5\n",
      "6\n",
      "7\n",
      "8\n",
      "9\n",
      "10\n"
     ]
    }
   ],
   "source": [
    "for i in range(0, 11, +1):\n",
    "    print(i)"
   ]
  },
  {
   "cell_type": "code",
   "execution_count": 7,
   "metadata": {},
   "outputs": [
    {
     "name": "stdout",
     "output_type": "stream",
     "text": [
      "10\n",
      "11\n",
      "12\n",
      "13\n",
      "14\n",
      "15\n",
      "16\n",
      "17\n",
      "18\n",
      "19\n",
      "20\n"
     ]
    }
   ],
   "source": [
    "inicio = int(input('Digite o numero onde começa a contagem: '))\n",
    "fim = int(input('Digite o numero onde termina a contagem: '))\n",
    "\n",
    "for i in range(inicio, fim +1):\n",
    "    print(i)"
   ]
  },
  {
   "cell_type": "code",
   "execution_count": 10,
   "metadata": {},
   "outputs": [
    {
     "name": "stdout",
     "output_type": "stream",
     "text": [
      "0\n",
      "2\n",
      "4\n",
      "6\n",
      "8\n",
      "10\n",
      "12\n",
      "14\n",
      "16\n",
      "18\n",
      "20\n"
     ]
    }
   ],
   "source": [
    "for i in range(0, 21):\n",
    "    if i % 2 == 0:\n",
    "        print(i)"
   ]
  }
 ],
 "metadata": {
  "kernelspec": {
   "display_name": "venv",
   "language": "python",
   "name": "python3"
  },
  "language_info": {
   "codemirror_mode": {
    "name": "ipython",
    "version": 3
   },
   "file_extension": ".py",
   "mimetype": "text/x-python",
   "name": "python",
   "nbconvert_exporter": "python",
   "pygments_lexer": "ipython3",
   "version": "3.11.9"
  }
 },
 "nbformat": 4,
 "nbformat_minor": 2
}
