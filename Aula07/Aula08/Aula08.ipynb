{
 "cells": [
  {
   "cell_type": "code",
   "execution_count": 9,
   "metadata": {},
   "outputs": [
    {
     "name": "stdout",
     "output_type": "stream",
     "text": [
      "         *\n",
      "         **\n",
      "         ***\n",
      "         ****\n",
      "         *****\n",
      "         ******\n",
      "         *******\n",
      "         ********\n",
      "         *********\n"
     ]
    }
   ],
   "source": [
    "altura = int(input('Digite a altura da arvore: '))\n",
    "\n",
    "for i in range(1, altura):\n",
    "    for _ in range(altura - i):\n",
    "     print(' ', end='')\n",
    "\n",
    "    for _ in range(i):\n",
    "     print('*', end='')\n",
    "\n",
    "\n",
    "    print()\n",
    "    altura +=1"
   ]
  },
  {
   "cell_type": "code",
   "execution_count": 10,
   "metadata": {},
   "outputs": [
    {
     "name": "stdout",
     "output_type": "stream",
     "text": [
      "Encontrei o Dias\n"
     ]
    }
   ],
   "source": [
    "lista = ['lucas', 'nathan', 'juan', 'quaresma', 'dias']\n",
    "while True:\n",
    "    if 'dias' in lista:\n",
    "        print('Encontrei o Dias')\n",
    "        break"
   ]
  },
  {
   "cell_type": "code",
   "execution_count": 14,
   "metadata": {},
   "outputs": [
    {
     "name": "stdout",
     "output_type": "stream",
     "text": [
      "['joao', 'victor', 'oliveira', 'pedro']\n"
     ]
    }
   ],
   "source": [
    "lista_nomes = []\n",
    "\n",
    "while True:\n",
    "    nome = input('Digite um nome ou enter no vazio para sair: ')\n",
    "    if nome !='':\n",
    "        lista_nomes.append(nome)\n",
    "    else:\n",
    "        break\n",
    "\n",
    "print(lista_nomes)"
   ]
  },
  {
   "cell_type": "code",
   "execution_count": 21,
   "metadata": {},
   "outputs": [
    {
     "name": "stdout",
     "output_type": "stream",
     "text": [
      "      #\n",
      "    ##\n",
      "  ###\n",
      "####\n"
     ]
    }
   ],
   "source": [
    "while True:\n",
    "    altura = int (input('Digite a altura da piramide: '))\n",
    "\n",
    "    if altura >0 :\n",
    "        break\n",
    "\n",
    "for i in range(altura):\n",
    "    print('  ' * (altura - (i + 1)) + '#' * ( i + 1))"
   ]
  },
  {
   "cell_type": "code",
   "execution_count": null,
   "metadata": {},
   "outputs": [],
   "source": [
    "while True:\n",
    "    print('1. Cadastrar o usuario. ')\n",
    "    print('2. Listar usuario. ')\n",
    "    print('3. Excluir usuario. ')\n",
    "    print('4. Sair')"
   ]
  }
 ],
 "metadata": {
  "kernelspec": {
   "display_name": "venv",
   "language": "python",
   "name": "python3"
  },
  "language_info": {
   "codemirror_mode": {
    "name": "ipython",
    "version": 3
   },
   "file_extension": ".py",
   "mimetype": "text/x-python",
   "name": "python",
   "nbconvert_exporter": "python",
   "pygments_lexer": "ipython3",
   "version": "3.11.9"
  }
 },
 "nbformat": 4,
 "nbformat_minor": 2
}
